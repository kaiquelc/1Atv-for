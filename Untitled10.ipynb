{
  "nbformat": 4,
  "nbformat_minor": 0,
  "metadata": {
    "colab": {
      "provenance": [],
      "authorship_tag": "ABX9TyMflEW0nc+cn59+sRQsMDbo",
      "include_colab_link": true
    },
    "kernelspec": {
      "name": "python3",
      "display_name": "Python 3"
    },
    "language_info": {
      "name": "python"
    }
  },
  "cells": [
    {
      "cell_type": "markdown",
      "metadata": {
        "id": "view-in-github",
        "colab_type": "text"
      },
      "source": [
        "<a href=\"https://colab.research.google.com/github/kaiquelc/1Atv-for/blob/main/Untitled10.ipynb\" target=\"_parent\"><img src=\"https://colab.research.google.com/assets/colab-badge.svg\" alt=\"Open In Colab\"/></a>"
      ]
    },
    {
      "cell_type": "code",
      "execution_count": null,
      "metadata": {
        "id": "nI6X3JMuMfiY"
      },
      "outputs": [],
      "source": [
        "# 1 - Importe o módulo statistics e crie uma lista com 14 números em ordem crescente\n",
        "import statistics\n",
        "\n",
        "dados = [10, 12, 15, 18, 21, 25, 27, 30, 33, 35, 37, 40, 42, 45]"
      ]
    },
    {
      "cell_type": "code",
      "source": [
        "# 2 - Calcule a média e a mediana usando o módulo completo\n",
        "media = statistics.mean(dados)\n",
        "mediana = statistics.median(dados)\n",
        "\n",
        "print(\"Média:\", media)\n",
        "print(\"Mediana:\", mediana)"
      ],
      "metadata": {
        "colab": {
          "base_uri": "https://localhost:8080/"
        },
        "id": "9nO9P632MyPK",
        "outputId": "31b8326f-af58-43ae-dd1b-840cc87a5ad2"
      },
      "execution_count": null,
      "outputs": [
        {
          "output_type": "stream",
          "name": "stdout",
          "text": [
            "Média: 27.857142857142858\n",
            "Mediana: 28.5\n"
          ]
        }
      ]
    },
    {
      "cell_type": "code",
      "source": [
        "# 3 - Use um alias para o módulo\n",
        "import statistics as st\n",
        "\n",
        "media = st.mean(dados)\n",
        "mediana = st.median(dados)\n",
        "\n",
        "print(\"Média (com alias):\", media)\n",
        "print(\"Mediana (com alias):\", mediana)"
      ],
      "metadata": {
        "colab": {
          "base_uri": "https://localhost:8080/"
        },
        "id": "r49SwJOsM5R2",
        "outputId": "951590f9-5cfc-4226-fb36-25239669fabc"
      },
      "execution_count": null,
      "outputs": [
        {
          "output_type": "stream",
          "name": "stdout",
          "text": [
            "Média (com alias): 27.857142857142858\n",
            "Mediana (com alias): 28.5\n"
          ]
        }
      ]
    },
    {
      "cell_type": "code",
      "source": [
        "# 4 - Importe apenas as funções mean e median\n",
        "from statistics import mean, median\n",
        "\n",
        "media = mean(dados)\n",
        "mediana = median(dados)\n",
        "\n",
        "print(\"Média (import direto):\", media)\n",
        "print(\"Mediana (import direto):\", mediana)"
      ],
      "metadata": {
        "colab": {
          "base_uri": "https://localhost:8080/"
        },
        "id": "EoKvRH8HM6ce",
        "outputId": "ec86419b-2477-48f3-a2de-498332b1db47"
      },
      "execution_count": null,
      "outputs": [
        {
          "output_type": "stream",
          "name": "stdout",
          "text": [
            "Média (import direto): 27.857142857142858\n",
            "Mediana (import direto): 28.5\n"
          ]
        }
      ]
    },
    {
      "cell_type": "code",
      "source": [
        "# 5 - Importe todas as funções do módulo\n",
        "from statistics import *\n",
        "\n",
        "media = mean(dados)\n",
        "mediana = median(dados)\n",
        "\n",
        "print(\"Média (import completo):\", media)\n",
        "print(\"Mediana (import completo):\", mediana)"
      ],
      "metadata": {
        "colab": {
          "base_uri": "https://localhost:8080/"
        },
        "id": "XBLipoqtM96m",
        "outputId": "e9cf33d8-9c3f-42ed-d711-a94f4d209681"
      },
      "execution_count": 6,
      "outputs": [
        {
          "output_type": "stream",
          "name": "stdout",
          "text": [
            "Média (import completo): 27.857142857142858\n",
            "Mediana (import completo): 28.5\n"
          ]
        }
      ]
    }
  ]
}